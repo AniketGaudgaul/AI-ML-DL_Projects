{
  "nbformat": 4,
  "nbformat_minor": 0,
  "metadata": {
    "colab": {
      "provenance": [],
      "authorship_tag": "ABX9TyM8a9GQMMxLSzQ3UkGbDXLo",
      "include_colab_link": true
    },
    "kernelspec": {
      "name": "python3",
      "display_name": "Python 3"
    },
    "language_info": {
      "name": "python"
    }
  },
  "cells": [
    {
      "cell_type": "markdown",
      "metadata": {
        "id": "view-in-github",
        "colab_type": "text"
      },
      "source": [
        "<a href=\"https://colab.research.google.com/github/AniketGaudgaul/AI-ML-DL_Projects/blob/main/aces_v3.ipynb\" target=\"_parent\"><img src=\"https://colab.research.google.com/assets/colab-badge.svg\" alt=\"Open In Colab\"/></a>"
      ]
    },
    {
      "cell_type": "code",
      "execution_count": null,
      "metadata": {
        "colab": {
          "base_uri": "https://localhost:8080/"
        },
        "id": "W0JQAPpwq7Rw",
        "outputId": "0f503814-396d-4c64-8c0c-4aec98f0de19"
      },
      "outputs": [
        {
          "output_type": "stream",
          "name": "stdout",
          "text": [
            "Looking in indexes: https://pypi.org/simple, https://us-python.pkg.dev/colab-wheels/public/simple/\n",
            "Collecting PyPDF2\n",
            "  Downloading pypdf2-3.0.1-py3-none-any.whl (232 kB)\n",
            "\u001b[2K     \u001b[90m━━━━━━━━━━━━━━━━━━━━━━━━━━━━━━━━━━━━━━━\u001b[0m \u001b[32m232.6/232.6 kB\u001b[0m \u001b[31m4.3 MB/s\u001b[0m eta \u001b[36m0:00:00\u001b[0m\n",
            "\u001b[?25hRequirement already satisfied: typing_extensions>=3.10.0.0 in /usr/local/lib/python3.9/dist-packages (from PyPDF2) (4.5.0)\n",
            "Installing collected packages: PyPDF2\n",
            "Successfully installed PyPDF2-3.0.1\n"
          ]
        }
      ],
      "source": [
        "pip install PyPDF2"
      ]
    },
    {
      "cell_type": "code",
      "source": [
        "pip install pdfplumber"
      ],
      "metadata": {
        "colab": {
          "base_uri": "https://localhost:8080/",
          "height": 527
        },
        "id": "iNelIGzqq9Rw",
        "outputId": "a7ba27d8-4ee8-4d92-bed1-2941972a2bf0"
      },
      "execution_count": null,
      "outputs": [
        {
          "output_type": "stream",
          "name": "stdout",
          "text": [
            "Looking in indexes: https://pypi.org/simple, https://us-python.pkg.dev/colab-wheels/public/simple/\n",
            "Collecting pdfplumber\n",
            "  Downloading pdfplumber-0.9.0-py3-none-any.whl (46 kB)\n",
            "\u001b[2K     \u001b[90m━━━━━━━━━━━━━━━━━━━━━━━━━━━━━━━━━━━━━━━━\u001b[0m \u001b[32m46.1/46.1 kB\u001b[0m \u001b[31m2.4 MB/s\u001b[0m eta \u001b[36m0:00:00\u001b[0m\n",
            "\u001b[?25hCollecting Pillow>=9.1\n",
            "  Downloading Pillow-9.5.0-cp39-cp39-manylinux_2_28_x86_64.whl (3.4 MB)\n",
            "\u001b[2K     \u001b[90m━━━━━━━━━━━━━━━━━━━━━━━━━━━━━━━━━━━━━━━━\u001b[0m \u001b[32m3.4/3.4 MB\u001b[0m \u001b[31m21.6 MB/s\u001b[0m eta \u001b[36m0:00:00\u001b[0m\n",
            "\u001b[?25hCollecting pdfminer.six==20221105\n",
            "  Downloading pdfminer.six-20221105-py3-none-any.whl (5.6 MB)\n",
            "\u001b[2K     \u001b[90m━━━━━━━━━━━━━━━━━━━━━━━━━━━━━━━━━━━━━━━━\u001b[0m \u001b[32m5.6/5.6 MB\u001b[0m \u001b[31m22.8 MB/s\u001b[0m eta \u001b[36m0:00:00\u001b[0m\n",
            "\u001b[?25hCollecting Wand>=0.6.10\n",
            "  Downloading Wand-0.6.11-py2.py3-none-any.whl (143 kB)\n",
            "\u001b[2K     \u001b[90m━━━━━━━━━━━━━━━━━━━━━━━━━━━━━━━━━━━━━━━\u001b[0m \u001b[32m143.6/143.6 kB\u001b[0m \u001b[31m8.4 MB/s\u001b[0m eta \u001b[36m0:00:00\u001b[0m\n",
            "\u001b[?25hRequirement already satisfied: cryptography>=36.0.0 in /usr/local/lib/python3.9/dist-packages (from pdfminer.six==20221105->pdfplumber) (40.0.1)\n",
            "Requirement already satisfied: charset-normalizer>=2.0.0 in /usr/local/lib/python3.9/dist-packages (from pdfminer.six==20221105->pdfplumber) (2.0.12)\n",
            "Requirement already satisfied: cffi>=1.12 in /usr/local/lib/python3.9/dist-packages (from cryptography>=36.0.0->pdfminer.six==20221105->pdfplumber) (1.15.1)\n",
            "Requirement already satisfied: pycparser in /usr/local/lib/python3.9/dist-packages (from cffi>=1.12->cryptography>=36.0.0->pdfminer.six==20221105->pdfplumber) (2.21)\n",
            "Installing collected packages: Wand, Pillow, pdfminer.six, pdfplumber\n",
            "  Attempting uninstall: Pillow\n",
            "    Found existing installation: Pillow 8.4.0\n",
            "    Uninstalling Pillow-8.4.0:\n",
            "      Successfully uninstalled Pillow-8.4.0\n",
            "Successfully installed Pillow-9.5.0 Wand-0.6.11 pdfminer.six-20221105 pdfplumber-0.9.0\n"
          ]
        },
        {
          "output_type": "display_data",
          "data": {
            "application/vnd.colab-display-data+json": {
              "pip_warning": {
                "packages": [
                  "PIL"
                ]
              }
            }
          },
          "metadata": {}
        }
      ]
    },
    {
      "cell_type": "code",
      "source": [
        "\n",
        "from PyPDF2 import PdfReader\n",
        "import pdfplumber\n",
        "import pandas as pd\n",
        "import re\n",
        "\n",
        "file = \"/content/2 TE Sem I A.Y 22-23.pdf\"\n",
        "\n",
        "lines = []\n",
        "\n",
        "with pdfplumber.open(file) as pdf:\n",
        "    pages = pdf.pages\n",
        "    for page in pdf.pages:\n",
        "        text = page.extract_text()\n",
        "        for line in text.split('............CONFIDENTIAL- FOR VERIFICATION AND RECORD ONLY AT COLLEGE, NOT FOR DISTRIBUTION.......................................'):\n",
        "            x=[i for i in line.split('\\n') if len(i)>1]\n",
        "            if len(x)<1:\n",
        "              continue\n",
        "            if \"PAGE\" in x[0]:\n",
        "\n",
        "              x.pop(0)\n",
        "              x.pop(0)\n",
        "              x.pop(0)\n",
        "              x.pop(0)\n",
        "            lines.append(x)\n",
        "\n",
        "\n",
        "# A function to extract data from each entry\n",
        "\n",
        "def extract_data(entry):\n",
        "    # Initialize an empty dictionary for storing the extracted data\n",
        "    data = {}\n",
        "\n",
        "    # Extract name and mother's name\n",
        "    name_line = entry[0]\n",
        "    # print(name_line)\n",
        "\n",
        "    data['name'] = name_line.split('NAME : ')[1].split(' MOTHER :')[0]\n",
        "    data['mother_name'] = name_line.split('MOTHER : ')[1].split(' PRN :')[0]\n",
        "    data['seat_number'] = name_line.split('SEAT NO.: ')[1].split(' NAME :')[0]\n",
        "    data['prn'] = name_line.split('PRN :')[1].split(' CLG.:')[0]\n",
        "\n",
        "    # print(data['name'])\n",
        "    # print(data['mother_name'])\n",
        "    # print(data['seat_number'])\n",
        "\n",
        "    # print(\"entry-1\",entry[-1])\n",
        "\n",
        "    # Extract marks for each subject in sem 1\n",
        "    result = {}\n",
        "    sem_lines = entry[2:-1]\n",
        "\n",
        "    # print(sem1_lines)\n",
        "\n",
        "    sem = 1\n",
        "\n",
        "    for line in sem_lines:\n",
        "        if 'SEM.:1' in line:\n",
        "            continue\n",
        "        elif 'SEM.:2' in line:\n",
        "            sem=2\n",
        "            continue\n",
        "        elif 'SGPA' in line:\n",
        "            break\n",
        "        else:\n",
        "            tokens = line.split()\n",
        "            tokens.reverse()\n",
        "            # print(tokens)\n",
        "            code = tokens[-1]\n",
        "            course_name = ' '.join(tokens[13:-1])  # Extract course name\n",
        "\n",
        "            # Extract insem marks if available\n",
        "            if tokens[12] != '---' and 'AB' not in tokens[12]:\n",
        "                insem_obtain, insem_total = map(int, tokens[12].split('/'))\n",
        "            elif tokens[12]!='---' and 'AB' in tokens[12]:\n",
        "                insem_obtain, insem_total = tokens[11].split('/')\n",
        "                insem_total = int(insem_total)\n",
        "            else:\n",
        "                insem_obtain, insem_total = None, None\n",
        "\n",
        "            # Extract ese marks if available\n",
        "            if tokens[11] != '---' and 'AB' not in tokens[11] and '$' not in tokens[11] and '#' not in tokens[11]:\n",
        "                ese_obtain, ese_total = map(int, tokens[11].split('/'))\n",
        "            elif('AB' in tokens[11]):\n",
        "                ese_obtain, ese_total = tokens[11].split('/')\n",
        "                ese_total = int(ese_total)\n",
        "            elif tokens[11] != '---' and '$' in tokens[11]:\n",
        "                ese_obtain, ese_total = tokens[11].split('$/')\n",
        "                ese_obtain = int(ese_obtain)\n",
        "                ese_total = int(ese_total)\n",
        "            elif tokens[11] != '---' and '#' in tokens[11]:\n",
        "                ese_obtain, ese_total = tokens[11].split('#/')\n",
        "                ese_obtain = int(ese_obtain)\n",
        "                ese_total = int(ese_total)\n",
        "\n",
        "            else:\n",
        "                ese_obtain, ese_total = None, None\n",
        "\n",
        "            # Extract total marks if available\n",
        "            if tokens[10] != '---' and 'AB' not in tokens[10] and '#' not in tokens[10]:\n",
        "                total_obtain, total_total = map(int, tokens[10].split('/'))\n",
        "            elif('AB' in tokens[10]):\n",
        "                total_obtain, total_total = tokens[10].split('/')\n",
        "                total_total = int(total_total)\n",
        "            elif(tokens[10] != '---' and '#' in tokens[10]):\n",
        "                total_obtain, total_total = map(int, tokens[10].split('#/'))\n",
        "            else:\n",
        "                total_obtain, total_total = None, None\n",
        "\n",
        "            # Extract term work marks if available\n",
        "            if tokens[9] != '---' and 'PP' not in tokens[9] and 'AB' not in tokens[9] and 'AC' not in tokens[9]:\n",
        "                tw_obtain, tw_total = map(int, tokens[9].split('/'))\n",
        "            elif tokens[9] != '---' and 'PP' in tokens[9]:\n",
        "                tw_obtain = tw_total = 'PP'\n",
        "            elif tokens[9] != '---' and 'AC' in tokens[9]:\n",
        "                tw_obtain = tw_total = 'AC'\n",
        "            elif tokens[9] != '---' and 'AB' in tokens[9]:\n",
        "                tw_obtain, tw_total = tokens[9].split('/')\n",
        "                tw_total = int(tw_total)\n",
        "            else:\n",
        "                tw_obtain, tw_total = None, None\n",
        "\n",
        "            # Extract practical marks if available\n",
        "            if tokens[8] != '---' and 'AB' not in tokens[8] and '#' not in tokens[8]:\n",
        "                pr_obtain, pr_total = map(int, tokens[8].split('/'))\n",
        "            elif('AB' in tokens[8]):\n",
        "                pr_obtain, pr_total = tokens[8].split('/')\n",
        "                pr_total = int(pr_total)\n",
        "            elif('#' in tokens[8]):\n",
        "                pr_obtain, pr_total = tokens[8].split('#/')\n",
        "                pr_obtain = int(pr_obtain)\n",
        "                pr_total = int(pr_total)\n",
        "            else:\n",
        "                pr_obtain, pr_total = None, None\n",
        "\n",
        "            # Extract oral marks if available\n",
        "            if tokens[7] != '---':\n",
        "                or_obtain, or_total = map(int, tokens[7].split('/'))\n",
        "            else:\n",
        "                or_obtain, or_total = None, None\n",
        "\n",
        "            # Extract percentage and credits\n",
        "            if(tokens[6]=='AC' or tokens[6] ==\"PP\" or tokens[6] =='FF'):\n",
        "              percent = tokens[6]\n",
        "            else:\n",
        "              percent = int(tokens[6])\n",
        "\n",
        "            credits = int(tokens[5])\n",
        "\n",
        "            # Extract grade, grade points, and credit points\n",
        "            grade = tokens[4]\n",
        "            grade_points = float(tokens[3])\n",
        "            credit_points = float(tokens[2])\n",
        "\n",
        "            # Extract pass and remanded status\n",
        "            if(tokens[1]!='---'):\n",
        "                pass_or_remanded_status = tokens[1]\n",
        "            else:\n",
        "                pass_or_remanded_status = None\n",
        "\n",
        "            # Extract order of appearance and seat number\n",
        "            if(tokens[0]!='---'):\n",
        "                order_of_appearance = tokens[0]\n",
        "            else:\n",
        "                order_of_appearance = None\n",
        "\n",
        "            # seat_number = tokens[-15]\n",
        "\n",
        "            # reversing words in a given string\n",
        "            s = course_name.split()[::-1]\n",
        "            l = []\n",
        "            for i in s:\n",
        "                # apending reversed words to l\n",
        "                l.append(i)\n",
        "            # printing reverse words\n",
        "            cn = \" \".join(l)\n",
        "\n",
        "            if(sem==1):\n",
        "                semester = \"sem1\"\n",
        "            else:\n",
        "                semester = \"sem2\"\n",
        "\n",
        "            result[code] = {'code': code, 'course_name': cn, 'insem_obtain': insem_obtain,\n",
        "            'insem_total': insem_total, 'ese_obtain': ese_obtain, 'ese_total': ese_total,\n",
        "            'total_obtain': total_obtain, 'total_total': total_total, 'tw_obtain': tw_obtain,\n",
        "            'tw_total': tw_total, 'pr_obtain': pr_obtain, 'pr_total': pr_total,\n",
        "            'or_obtain': or_obtain, 'or_total': or_total, 'percent': percent,\n",
        "            'credits': credits, 'grade': grade, 'grade_points': grade_points,\n",
        "            'credit_points': credit_points, 'pass_or_remanded_status': pass_or_remanded_status,\n",
        "            'order_of_appearance': order_of_appearance, 'semester':semester}\n",
        "\n",
        "\n",
        "    # print(sem1)\n",
        "    data['result'] = result\n",
        "    # print(data['sem1'])\n",
        "\n",
        "    final_line = entry[-1]\n",
        "    # print('final line', final_line)\n",
        "\n",
        "    if 'SGPA1' in final_line:\n",
        "        data['SGPA'] = final_line.split('SGPA1 : ')[1].split(',')[0]\n",
        "    else:\n",
        "        data['SGPA'] = final_line.split('SGPA : ')[1].split(',')[0]\n",
        "    if data['SGPA']!='--' :\n",
        "      float(data['SGPA'])\n",
        "\n",
        "    data['cred_earned'] = float(final_line.split('TOTAL CREDITS EARNED : ')[1].split(' ')[0])\n",
        "    # print(data['SGPA'])\n",
        "    # print(data['cred_earned'])\n",
        "\n",
        "\n",
        "    return data\n",
        "\n",
        "# Iterate through each entry in the list and extract the data\n",
        "students_data = []\n",
        "for idx,entry in enumerate(lines):\n",
        "    # print(entry)\n",
        "    data = extract_data(entry)\n",
        "    # print(idx)\n",
        "    students_data.append(data)\n",
        "    print(students_data[idx])\n",
        "    print(\"\\n\")\n"
      ],
      "metadata": {
        "id": "dvF59OzYrEDY"
      },
      "execution_count": null,
      "outputs": []
    },
    {
      "cell_type": "code",
      "source": [
        "print(students_data[24])"
      ],
      "metadata": {
        "colab": {
          "base_uri": "https://localhost:8080/"
        },
        "id": "9hW13ipZseda",
        "outputId": "8b77c006-74eb-4eff-b483-0a9f00403d5c"
      },
      "execution_count": null,
      "outputs": [
        {
          "output_type": "stream",
          "name": "stdout",
          "text": [
            "{'name': 'GAUDGAUL ANIKET SANJEEV', 'mother_name': 'LATA GAUDGAUL', 'seat_number': 'T190074225', 'prn': '72139090M', 'result': {'310241': {'code': '310241', 'course_name': 'DATABASE MANAGEMENT SYSTEMS *', 'insem_obtain': 25, 'insem_total': 30, 'ese_obtain': 50, 'ese_total': 70, 'total_obtain': 75, 'total_total': 100, 'tw_obtain': None, 'tw_total': None, 'pr_obtain': None, 'pr_total': None, 'or_obtain': None, 'or_total': None, 'percent': 75, 'credits': 3, 'grade': 'A+', 'grade_points': 9.0, 'credit_points': 27.0, 'pass_or_remanded_status': None, 'order_of_appearance': None, 'semester': 'sem1'}, '310242': {'code': '310242', 'course_name': 'THEORY OF COMPUTATION *', 'insem_obtain': 16, 'insem_total': 30, 'ese_obtain': 33, 'ese_total': 70, 'total_obtain': 49, 'total_total': 100, 'tw_obtain': None, 'tw_total': None, 'pr_obtain': None, 'pr_total': None, 'or_obtain': None, 'or_total': None, 'percent': 49, 'credits': 3, 'grade': 'C', 'grade_points': 5.0, 'credit_points': 15.0, 'pass_or_remanded_status': None, 'order_of_appearance': None, 'semester': 'sem1'}, '310243': {'code': '310243', 'course_name': 'SYS. PROG & OPERATING SYS. *', 'insem_obtain': 27, 'insem_total': 30, 'ese_obtain': 47, 'ese_total': 70, 'total_obtain': 74, 'total_total': 100, 'tw_obtain': None, 'tw_total': None, 'pr_obtain': None, 'pr_total': None, 'or_obtain': None, 'or_total': None, 'percent': 74, 'credits': 3, 'grade': 'A+', 'grade_points': 9.0, 'credit_points': 27.0, 'pass_or_remanded_status': None, 'order_of_appearance': None, 'semester': 'sem1'}, '310244': {'code': '310244', 'course_name': 'COMPUTER NETWORKS AND SEC. *', 'insem_obtain': 22, 'insem_total': 30, 'ese_obtain': 57, 'ese_total': 70, 'total_obtain': 79, 'total_total': 100, 'tw_obtain': None, 'tw_total': None, 'pr_obtain': None, 'pr_total': None, 'or_obtain': None, 'or_total': None, 'percent': 79, 'credits': 3, 'grade': 'A+', 'grade_points': 9.0, 'credit_points': 27.0, 'pass_or_remanded_status': None, 'order_of_appearance': None, 'semester': 'sem1'}, '310245B': {'code': '310245B', 'course_name': 'HUMAN COMPUTER INTERFACE *', 'insem_obtain': 28, 'insem_total': 30, 'ese_obtain': 63, 'ese_total': 70, 'total_obtain': 91, 'total_total': 100, 'tw_obtain': None, 'tw_total': None, 'pr_obtain': None, 'pr_total': None, 'or_obtain': None, 'or_total': None, 'percent': 91, 'credits': 3, 'grade': 'O', 'grade_points': 10.0, 'credit_points': 30.0, 'pass_or_remanded_status': None, 'order_of_appearance': None, 'semester': 'sem1'}, '310249': {'code': '310249', 'course_name': 'SEMINAR AND TECH. COMN. *', 'insem_obtain': None, 'insem_total': None, 'ese_obtain': None, 'ese_total': None, 'total_obtain': None, 'total_total': None, 'tw_obtain': 48, 'tw_total': 50, 'pr_obtain': None, 'pr_total': None, 'or_obtain': None, 'or_total': None, 'percent': 96, 'credits': 1, 'grade': 'O', 'grade_points': 10.0, 'credit_points': 10.0, 'pass_or_remanded_status': None, 'order_of_appearance': None, 'semester': 'sem1'}, '310246': {'code': '310246', 'course_name': 'DATABASE MGMT. SYS. LAB. *', 'insem_obtain': None, 'insem_total': None, 'ese_obtain': None, 'ese_total': None, 'total_obtain': None, 'total_total': None, 'tw_obtain': 24, 'tw_total': 25, 'pr_obtain': 24, 'pr_total': 25, 'or_obtain': None, 'or_total': None, 'percent': 96, 'credits': 2, 'grade': 'O', 'grade_points': 10.0, 'credit_points': 20.0, 'pass_or_remanded_status': None, 'order_of_appearance': None, 'semester': 'sem1'}, '310248': {'code': '310248', 'course_name': 'LABORATORY PRACTICE I *', 'insem_obtain': None, 'insem_total': None, 'ese_obtain': None, 'ese_total': None, 'total_obtain': None, 'total_total': None, 'tw_obtain': 23, 'tw_total': 25, 'pr_obtain': 23, 'pr_total': 25, 'or_obtain': None, 'or_total': None, 'percent': 92, 'credits': 2, 'grade': 'O', 'grade_points': 10.0, 'credit_points': 20.0, 'pass_or_remanded_status': None, 'order_of_appearance': None, 'semester': 'sem1'}, '310247': {'code': '310247', 'course_name': 'COMP. NET. AND SEC. LAB. *', 'insem_obtain': None, 'insem_total': None, 'ese_obtain': None, 'ese_total': None, 'total_obtain': None, 'total_total': None, 'tw_obtain': 21, 'tw_total': 25, 'pr_obtain': None, 'pr_total': None, 'or_obtain': 22, 'or_total': 25, 'percent': 86, 'credits': 1, 'grade': 'O', 'grade_points': 10.0, 'credit_points': 10.0, 'pass_or_remanded_status': None, 'order_of_appearance': None, 'semester': 'sem1'}, '310250B': {'code': '310250B', 'course_name': 'PROF. ETH. & ETIQUETTES 3. *', 'insem_obtain': None, 'insem_total': None, 'ese_obtain': None, 'ese_total': None, 'total_obtain': None, 'total_total': None, 'tw_obtain': None, 'tw_total': None, 'pr_obtain': None, 'pr_total': None, 'or_obtain': None, 'or_total': None, 'percent': 'AC', 'credits': 0, 'grade': 'AC', 'grade_points': 0.0, 'credit_points': 0.0, 'pass_or_remanded_status': None, 'order_of_appearance': None, 'semester': 'sem1'}, '310269': {'code': '310269', 'course_name': 'HON-COMPUTATIONAL STAT. *', 'insem_obtain': None, 'insem_total': None, 'ese_obtain': None, 'ese_total': None, 'total_obtain': None, 'total_total': None, 'tw_obtain': None, 'tw_total': None, 'pr_obtain': 44, 'pr_total': 50, 'or_obtain': None, 'or_total': None, 'percent': 88, 'credits': 1, 'grade': 'O', 'grade_points': 10.0, 'credit_points': 10.0, 'pass_or_remanded_status': None, 'order_of_appearance': None, 'semester': 'sem1'}}, 'SGPA': '8.86', 'cred_earned': 21.0}\n"
          ]
        }
      ]
    },
    {
      "cell_type": "code",
      "source": [],
      "metadata": {
        "id": "cECNuEH-sg1w"
      },
      "execution_count": null,
      "outputs": []
    }
  ]
}